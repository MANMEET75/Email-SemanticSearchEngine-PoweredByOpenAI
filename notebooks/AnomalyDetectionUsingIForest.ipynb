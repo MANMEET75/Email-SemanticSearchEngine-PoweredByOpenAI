{
  "nbformat": 4,
  "nbformat_minor": 0,
  "metadata": {
    "colab": {
      "provenance": []
    },
    "kernelspec": {
      "name": "python3",
      "display_name": "Python 3"
    },
    "language_info": {
      "name": "python"
    }
  },
  "cells": [
    {
      "cell_type": "code",
      "source": [
        "import pandas as pd\n",
        "import ast\n",
        "from sklearn.ensemble import IsolationForest"
      ],
      "metadata": {
        "id": "gpQhrqvF517l"
      },
      "execution_count": null,
      "outputs": []
    },
    {
      "cell_type": "code",
      "source": [
        "# Load embeddings from CSV file\n",
        "csv_file_path = 'word_embeddings_body.csv'\n",
        "df = pd.read_csv(csv_file_path)"
      ],
      "metadata": {
        "id": "-qHhAuV77IiR"
      },
      "execution_count": null,
      "outputs": []
    },
    {
      "cell_type": "code",
      "source": [
        "df.head()"
      ],
      "metadata": {
        "colab": {
          "base_uri": "https://localhost:8080/",
          "height": 206
        },
        "id": "bSi7opmQ7Ik5",
        "outputId": "b8da214d-1926-4455-b522-3f2d1e49020a"
      },
      "execution_count": null,
      "outputs": [
        {
          "output_type": "execute_result",
          "data": {
            "text/plain": [
              "   Unnamed: 0                                         text_clean  \\\n",
              "0           0                                           forecast   \n",
              "1           1  traveling business meeting take fun trip espec...   \n",
              "2           2                             test successful way go   \n",
              "3           3  randycan send schedule salary level everyone t...   \n",
              "4           4        greghow either next tuesday thursdayphillip   \n",
              "\n",
              "                                           embedding  \n",
              "0  [-0.002978444332256913, -0.029137851670384407,...  \n",
              "1  [-0.016611222177743912, -0.023307325318455696,...  \n",
              "2  [-0.011441954411566257, 0.013317566365003586, ...  \n",
              "3  [-0.02002922259271145, -0.01722276769578457, 0...  \n",
              "4  [-0.026682931929826736, -0.0004355040728114545...  "
            ],
            "text/html": [
              "\n",
              "\n",
              "  <div id=\"df-5efceaae-d3fc-4072-898b-01296d8e572d\">\n",
              "    <div class=\"colab-df-container\">\n",
              "      <div>\n",
              "<style scoped>\n",
              "    .dataframe tbody tr th:only-of-type {\n",
              "        vertical-align: middle;\n",
              "    }\n",
              "\n",
              "    .dataframe tbody tr th {\n",
              "        vertical-align: top;\n",
              "    }\n",
              "\n",
              "    .dataframe thead th {\n",
              "        text-align: right;\n",
              "    }\n",
              "</style>\n",
              "<table border=\"1\" class=\"dataframe\">\n",
              "  <thead>\n",
              "    <tr style=\"text-align: right;\">\n",
              "      <th></th>\n",
              "      <th>Unnamed: 0</th>\n",
              "      <th>text_clean</th>\n",
              "      <th>embedding</th>\n",
              "    </tr>\n",
              "  </thead>\n",
              "  <tbody>\n",
              "    <tr>\n",
              "      <th>0</th>\n",
              "      <td>0</td>\n",
              "      <td>forecast</td>\n",
              "      <td>[-0.002978444332256913, -0.029137851670384407,...</td>\n",
              "    </tr>\n",
              "    <tr>\n",
              "      <th>1</th>\n",
              "      <td>1</td>\n",
              "      <td>traveling business meeting take fun trip espec...</td>\n",
              "      <td>[-0.016611222177743912, -0.023307325318455696,...</td>\n",
              "    </tr>\n",
              "    <tr>\n",
              "      <th>2</th>\n",
              "      <td>2</td>\n",
              "      <td>test successful way go</td>\n",
              "      <td>[-0.011441954411566257, 0.013317566365003586, ...</td>\n",
              "    </tr>\n",
              "    <tr>\n",
              "      <th>3</th>\n",
              "      <td>3</td>\n",
              "      <td>randycan send schedule salary level everyone t...</td>\n",
              "      <td>[-0.02002922259271145, -0.01722276769578457, 0...</td>\n",
              "    </tr>\n",
              "    <tr>\n",
              "      <th>4</th>\n",
              "      <td>4</td>\n",
              "      <td>greghow either next tuesday thursdayphillip</td>\n",
              "      <td>[-0.026682931929826736, -0.0004355040728114545...</td>\n",
              "    </tr>\n",
              "  </tbody>\n",
              "</table>\n",
              "</div>\n",
              "      <button class=\"colab-df-convert\" onclick=\"convertToInteractive('df-5efceaae-d3fc-4072-898b-01296d8e572d')\"\n",
              "              title=\"Convert this dataframe to an interactive table.\"\n",
              "              style=\"display:none;\">\n",
              "\n",
              "  <svg xmlns=\"http://www.w3.org/2000/svg\" height=\"24px\"viewBox=\"0 0 24 24\"\n",
              "       width=\"24px\">\n",
              "    <path d=\"M0 0h24v24H0V0z\" fill=\"none\"/>\n",
              "    <path d=\"M18.56 5.44l.94 2.06.94-2.06 2.06-.94-2.06-.94-.94-2.06-.94 2.06-2.06.94zm-11 1L8.5 8.5l.94-2.06 2.06-.94-2.06-.94L8.5 2.5l-.94 2.06-2.06.94zm10 10l.94 2.06.94-2.06 2.06-.94-2.06-.94-.94-2.06-.94 2.06-2.06.94z\"/><path d=\"M17.41 7.96l-1.37-1.37c-.4-.4-.92-.59-1.43-.59-.52 0-1.04.2-1.43.59L10.3 9.45l-7.72 7.72c-.78.78-.78 2.05 0 2.83L4 21.41c.39.39.9.59 1.41.59.51 0 1.02-.2 1.41-.59l7.78-7.78 2.81-2.81c.8-.78.8-2.07 0-2.86zM5.41 20L4 18.59l7.72-7.72 1.47 1.35L5.41 20z\"/>\n",
              "  </svg>\n",
              "      </button>\n",
              "\n",
              "\n",
              "\n",
              "    <div id=\"df-24cf8405-17c9-407c-bb9a-fb7cdb267df4\">\n",
              "      <button class=\"colab-df-quickchart\" onclick=\"quickchart('df-24cf8405-17c9-407c-bb9a-fb7cdb267df4')\"\n",
              "              title=\"Suggest charts.\"\n",
              "              style=\"display:none;\">\n",
              "\n",
              "<svg xmlns=\"http://www.w3.org/2000/svg\" height=\"24px\"viewBox=\"0 0 24 24\"\n",
              "     width=\"24px\">\n",
              "    <g>\n",
              "        <path d=\"M19 3H5c-1.1 0-2 .9-2 2v14c0 1.1.9 2 2 2h14c1.1 0 2-.9 2-2V5c0-1.1-.9-2-2-2zM9 17H7v-7h2v7zm4 0h-2V7h2v10zm4 0h-2v-4h2v4z\"/>\n",
              "    </g>\n",
              "</svg>\n",
              "      </button>\n",
              "    </div>\n",
              "\n",
              "<style>\n",
              "  .colab-df-quickchart {\n",
              "    background-color: #E8F0FE;\n",
              "    border: none;\n",
              "    border-radius: 50%;\n",
              "    cursor: pointer;\n",
              "    display: none;\n",
              "    fill: #1967D2;\n",
              "    height: 32px;\n",
              "    padding: 0 0 0 0;\n",
              "    width: 32px;\n",
              "  }\n",
              "\n",
              "  .colab-df-quickchart:hover {\n",
              "    background-color: #E2EBFA;\n",
              "    box-shadow: 0px 1px 2px rgba(60, 64, 67, 0.3), 0px 1px 3px 1px rgba(60, 64, 67, 0.15);\n",
              "    fill: #174EA6;\n",
              "  }\n",
              "\n",
              "  [theme=dark] .colab-df-quickchart {\n",
              "    background-color: #3B4455;\n",
              "    fill: #D2E3FC;\n",
              "  }\n",
              "\n",
              "  [theme=dark] .colab-df-quickchart:hover {\n",
              "    background-color: #434B5C;\n",
              "    box-shadow: 0px 1px 3px 1px rgba(0, 0, 0, 0.15);\n",
              "    filter: drop-shadow(0px 1px 2px rgba(0, 0, 0, 0.3));\n",
              "    fill: #FFFFFF;\n",
              "  }\n",
              "</style>\n",
              "\n",
              "    <script>\n",
              "      async function quickchart(key) {\n",
              "        const containerElement = document.querySelector('#' + key);\n",
              "        const charts = await google.colab.kernel.invokeFunction(\n",
              "            'suggestCharts', [key], {});\n",
              "      }\n",
              "    </script>\n",
              "\n",
              "      <script>\n",
              "\n",
              "function displayQuickchartButton(domScope) {\n",
              "  let quickchartButtonEl =\n",
              "    domScope.querySelector('#df-24cf8405-17c9-407c-bb9a-fb7cdb267df4 button.colab-df-quickchart');\n",
              "  quickchartButtonEl.style.display =\n",
              "    google.colab.kernel.accessAllowed ? 'block' : 'none';\n",
              "}\n",
              "\n",
              "        displayQuickchartButton(document);\n",
              "      </script>\n",
              "      <style>\n",
              "    .colab-df-container {\n",
              "      display:flex;\n",
              "      flex-wrap:wrap;\n",
              "      gap: 12px;\n",
              "    }\n",
              "\n",
              "    .colab-df-convert {\n",
              "      background-color: #E8F0FE;\n",
              "      border: none;\n",
              "      border-radius: 50%;\n",
              "      cursor: pointer;\n",
              "      display: none;\n",
              "      fill: #1967D2;\n",
              "      height: 32px;\n",
              "      padding: 0 0 0 0;\n",
              "      width: 32px;\n",
              "    }\n",
              "\n",
              "    .colab-df-convert:hover {\n",
              "      background-color: #E2EBFA;\n",
              "      box-shadow: 0px 1px 2px rgba(60, 64, 67, 0.3), 0px 1px 3px 1px rgba(60, 64, 67, 0.15);\n",
              "      fill: #174EA6;\n",
              "    }\n",
              "\n",
              "    [theme=dark] .colab-df-convert {\n",
              "      background-color: #3B4455;\n",
              "      fill: #D2E3FC;\n",
              "    }\n",
              "\n",
              "    [theme=dark] .colab-df-convert:hover {\n",
              "      background-color: #434B5C;\n",
              "      box-shadow: 0px 1px 3px 1px rgba(0, 0, 0, 0.15);\n",
              "      filter: drop-shadow(0px 1px 2px rgba(0, 0, 0, 0.3));\n",
              "      fill: #FFFFFF;\n",
              "    }\n",
              "  </style>\n",
              "\n",
              "      <script>\n",
              "        const buttonEl =\n",
              "          document.querySelector('#df-5efceaae-d3fc-4072-898b-01296d8e572d button.colab-df-convert');\n",
              "        buttonEl.style.display =\n",
              "          google.colab.kernel.accessAllowed ? 'block' : 'none';\n",
              "\n",
              "        async function convertToInteractive(key) {\n",
              "          const element = document.querySelector('#df-5efceaae-d3fc-4072-898b-01296d8e572d');\n",
              "          const dataTable =\n",
              "            await google.colab.kernel.invokeFunction('convertToInteractive',\n",
              "                                                     [key], {});\n",
              "          if (!dataTable) return;\n",
              "\n",
              "          const docLinkHtml = 'Like what you see? Visit the ' +\n",
              "            '<a target=\"_blank\" href=https://colab.research.google.com/notebooks/data_table.ipynb>data table notebook</a>'\n",
              "            + ' to learn more about interactive tables.';\n",
              "          element.innerHTML = '';\n",
              "          dataTable['output_type'] = 'display_data';\n",
              "          await google.colab.output.renderOutput(dataTable, element);\n",
              "          const docLink = document.createElement('div');\n",
              "          docLink.innerHTML = docLinkHtml;\n",
              "          element.appendChild(docLink);\n",
              "        }\n",
              "      </script>\n",
              "    </div>\n",
              "  </div>\n"
            ]
          },
          "metadata": {},
          "execution_count": 3
        }
      ]
    },
    {
      "cell_type": "code",
      "source": [
        "# Assuming that the embeddings are stored in a column called 'embeddings'\n",
        "# Parse the string representations to lists of numbers\n",
        "df['embedding'] = df['embedding'].apply(lambda x: ast.literal_eval(x))"
      ],
      "metadata": {
        "id": "7ylXYpZ752Dq"
      },
      "execution_count": null,
      "outputs": []
    },
    {
      "cell_type": "code",
      "source": [
        "# Convert the embeddings column to a list of lists\n",
        "embeddings = df['embedding'].tolist()"
      ],
      "metadata": {
        "id": "BTf9mu1q8PDq"
      },
      "execution_count": null,
      "outputs": []
    },
    {
      "cell_type": "code",
      "source": [
        "# Create the Isolation Forest model\n",
        "isolation_forest = IsolationForest(contamination=0.05)  # Adjust contamination based on your data\n"
      ],
      "metadata": {
        "id": "sZlFOImn8PGC"
      },
      "execution_count": 50,
      "outputs": []
    },
    {
      "cell_type": "code",
      "source": [
        "# Fit the model to the embeddings\n",
        "isolation_forest.fit(embeddings)"
      ],
      "metadata": {
        "colab": {
          "base_uri": "https://localhost:8080/",
          "height": 74
        },
        "id": "Si-Db96w8PKr",
        "outputId": "a4335d17-d8ee-482d-9f69-f5329b1c8854"
      },
      "execution_count": 51,
      "outputs": [
        {
          "output_type": "execute_result",
          "data": {
            "text/plain": [
              "IsolationForest(contamination=0.05)"
            ],
            "text/html": [
              "<style>#sk-container-id-2 {color: black;background-color: white;}#sk-container-id-2 pre{padding: 0;}#sk-container-id-2 div.sk-toggleable {background-color: white;}#sk-container-id-2 label.sk-toggleable__label {cursor: pointer;display: block;width: 100%;margin-bottom: 0;padding: 0.3em;box-sizing: border-box;text-align: center;}#sk-container-id-2 label.sk-toggleable__label-arrow:before {content: \"▸\";float: left;margin-right: 0.25em;color: #696969;}#sk-container-id-2 label.sk-toggleable__label-arrow:hover:before {color: black;}#sk-container-id-2 div.sk-estimator:hover label.sk-toggleable__label-arrow:before {color: black;}#sk-container-id-2 div.sk-toggleable__content {max-height: 0;max-width: 0;overflow: hidden;text-align: left;background-color: #f0f8ff;}#sk-container-id-2 div.sk-toggleable__content pre {margin: 0.2em;color: black;border-radius: 0.25em;background-color: #f0f8ff;}#sk-container-id-2 input.sk-toggleable__control:checked~div.sk-toggleable__content {max-height: 200px;max-width: 100%;overflow: auto;}#sk-container-id-2 input.sk-toggleable__control:checked~label.sk-toggleable__label-arrow:before {content: \"▾\";}#sk-container-id-2 div.sk-estimator input.sk-toggleable__control:checked~label.sk-toggleable__label {background-color: #d4ebff;}#sk-container-id-2 div.sk-label input.sk-toggleable__control:checked~label.sk-toggleable__label {background-color: #d4ebff;}#sk-container-id-2 input.sk-hidden--visually {border: 0;clip: rect(1px 1px 1px 1px);clip: rect(1px, 1px, 1px, 1px);height: 1px;margin: -1px;overflow: hidden;padding: 0;position: absolute;width: 1px;}#sk-container-id-2 div.sk-estimator {font-family: monospace;background-color: #f0f8ff;border: 1px dotted black;border-radius: 0.25em;box-sizing: border-box;margin-bottom: 0.5em;}#sk-container-id-2 div.sk-estimator:hover {background-color: #d4ebff;}#sk-container-id-2 div.sk-parallel-item::after {content: \"\";width: 100%;border-bottom: 1px solid gray;flex-grow: 1;}#sk-container-id-2 div.sk-label:hover label.sk-toggleable__label {background-color: #d4ebff;}#sk-container-id-2 div.sk-serial::before {content: \"\";position: absolute;border-left: 1px solid gray;box-sizing: border-box;top: 0;bottom: 0;left: 50%;z-index: 0;}#sk-container-id-2 div.sk-serial {display: flex;flex-direction: column;align-items: center;background-color: white;padding-right: 0.2em;padding-left: 0.2em;position: relative;}#sk-container-id-2 div.sk-item {position: relative;z-index: 1;}#sk-container-id-2 div.sk-parallel {display: flex;align-items: stretch;justify-content: center;background-color: white;position: relative;}#sk-container-id-2 div.sk-item::before, #sk-container-id-2 div.sk-parallel-item::before {content: \"\";position: absolute;border-left: 1px solid gray;box-sizing: border-box;top: 0;bottom: 0;left: 50%;z-index: -1;}#sk-container-id-2 div.sk-parallel-item {display: flex;flex-direction: column;z-index: 1;position: relative;background-color: white;}#sk-container-id-2 div.sk-parallel-item:first-child::after {align-self: flex-end;width: 50%;}#sk-container-id-2 div.sk-parallel-item:last-child::after {align-self: flex-start;width: 50%;}#sk-container-id-2 div.sk-parallel-item:only-child::after {width: 0;}#sk-container-id-2 div.sk-dashed-wrapped {border: 1px dashed gray;margin: 0 0.4em 0.5em 0.4em;box-sizing: border-box;padding-bottom: 0.4em;background-color: white;}#sk-container-id-2 div.sk-label label {font-family: monospace;font-weight: bold;display: inline-block;line-height: 1.2em;}#sk-container-id-2 div.sk-label-container {text-align: center;}#sk-container-id-2 div.sk-container {/* jupyter's `normalize.less` sets `[hidden] { display: none; }` but bootstrap.min.css set `[hidden] { display: none !important; }` so we also need the `!important` here to be able to override the default hidden behavior on the sphinx rendered scikit-learn.org. See: https://github.com/scikit-learn/scikit-learn/issues/21755 */display: inline-block !important;position: relative;}#sk-container-id-2 div.sk-text-repr-fallback {display: none;}</style><div id=\"sk-container-id-2\" class=\"sk-top-container\"><div class=\"sk-text-repr-fallback\"><pre>IsolationForest(contamination=0.05)</pre><b>In a Jupyter environment, please rerun this cell to show the HTML representation or trust the notebook. <br />On GitHub, the HTML representation is unable to render, please try loading this page with nbviewer.org.</b></div><div class=\"sk-container\" hidden><div class=\"sk-item\"><div class=\"sk-estimator sk-toggleable\"><input class=\"sk-toggleable__control sk-hidden--visually\" id=\"sk-estimator-id-2\" type=\"checkbox\" checked><label for=\"sk-estimator-id-2\" class=\"sk-toggleable__label sk-toggleable__label-arrow\">IsolationForest</label><div class=\"sk-toggleable__content\"><pre>IsolationForest(contamination=0.05)</pre></div></div></div></div></div>"
            ]
          },
          "metadata": {},
          "execution_count": 51
        }
      ]
    },
    {
      "cell_type": "code",
      "source": [
        "anomaly_scores = isolation_forest.score_samples(embeddings)\n"
      ],
      "metadata": {
        "id": "QHGm5Lmr8Pik"
      },
      "execution_count": 52,
      "outputs": []
    },
    {
      "cell_type": "code",
      "source": [
        "anomaly_scores"
      ],
      "metadata": {
        "colab": {
          "base_uri": "https://localhost:8080/"
        },
        "id": "ZIxDjlcw8Ply",
        "outputId": "30ea6a81-9b9e-4da1-f3ee-b1da21f15ed9"
      },
      "execution_count": 53,
      "outputs": [
        {
          "output_type": "execute_result",
          "data": {
            "text/plain": [
              "array([-0.46813892, -0.44683136, -0.44731273, -0.43783666, -0.43259021,\n",
              "       -0.42031463, -0.48025548, -0.42119029, -0.42529053, -0.43346462,\n",
              "       -0.43224631, -0.43224631, -0.47586686, -0.44930949, -0.41360623,\n",
              "       -0.44886073, -0.43563738, -0.4106636 , -0.42209594, -0.46505123,\n",
              "       -0.42104459, -0.42474715, -0.4435004 , -0.4354558 , -0.43747778,\n",
              "       -0.41163131, -0.41747092, -0.46954998, -0.41053945, -0.40383528,\n",
              "       -0.43484691, -0.46236845, -0.41754613, -0.41472934, -0.45084025,\n",
              "       -0.42802953, -0.43381513, -0.43839206, -0.45506123, -0.41141602,\n",
              "       -0.44900457, -0.4508678 , -0.4356752 , -0.45007917, -0.42148689,\n",
              "       -0.43838941, -0.42652302, -0.47088819, -0.40644295, -0.42682749,\n",
              "       -0.44517962, -0.47106831, -0.46639474, -0.41071094, -0.41137355,\n",
              "       -0.41774734, -0.4458026 , -0.45043322, -0.42004734, -0.45920129,\n",
              "       -0.43635137, -0.42975401, -0.4373771 , -0.42810812, -0.41323462,\n",
              "       -0.43146696, -0.48101535, -0.43106036, -0.41864857, -0.43547085,\n",
              "       -0.44687754, -0.40588397, -0.42803631, -0.4702534 , -0.4244612 ,\n",
              "       -0.43471876, -0.45925942, -0.40490686, -0.45258958, -0.42916686,\n",
              "       -0.42968459, -0.42790661, -0.42719896, -0.43274858, -0.45649725,\n",
              "       -0.46570877, -0.42547743, -0.46016647, -0.45079407, -0.47827278,\n",
              "       -0.45662785, -0.41654759, -0.46338173, -0.42038401, -0.44035033,\n",
              "       -0.41052355, -0.43699497, -0.47351941, -0.41617823, -0.46546265,\n",
              "       -0.46101036, -0.430614  , -0.41654759, -0.43808601, -0.45259623,\n",
              "       -0.43258409, -0.4342959 , -0.42232588, -0.42911696, -0.44149734,\n",
              "       -0.49372278, -0.41624027, -0.43458261, -0.45227392, -0.46078045,\n",
              "       -0.39850245, -0.44501849, -0.47168632, -0.44794906, -0.43726968,\n",
              "       -0.42525487, -0.47538758, -0.43429384, -0.44357511, -0.45364792,\n",
              "       -0.43672969, -0.47325102, -0.44517257, -0.4167656 , -0.43253092,\n",
              "       -0.4468289 , -0.44708636, -0.43012352, -0.40283958, -0.40595036,\n",
              "       -0.44013689, -0.42192481, -0.46564455, -0.45224368, -0.42478503,\n",
              "       -0.43240925, -0.48332236, -0.4238959 , -0.43924066, -0.42012031,\n",
              "       -0.42920456, -0.44308288, -0.44081497, -0.46178562, -0.41473012,\n",
              "       -0.44197407, -0.41745653, -0.41208732, -0.43462036, -0.4826935 ,\n",
              "       -0.4671807 , -0.45294136, -0.42640912, -0.41010823, -0.42614098,\n",
              "       -0.43093981, -0.44808756, -0.48262216, -0.4325096 , -0.4325096 ,\n",
              "       -0.47390417, -0.43524381, -0.42789336, -0.41484726, -0.42648979,\n",
              "       -0.43351733, -0.42057479, -0.43481944, -0.42674156, -0.42540609,\n",
              "       -0.41964256, -0.45358119, -0.43656696, -0.43740902, -0.41315341,\n",
              "       -0.448348  , -0.42582809, -0.42811683, -0.43548898, -0.41542488,\n",
              "       -0.41542488, -0.46431898, -0.44024134, -0.43312177, -0.48118938,\n",
              "       -0.46011205, -0.41658078, -0.41338224, -0.43777321, -0.43387146,\n",
              "       -0.4547476 , -0.42253383, -0.44900672, -0.43781883, -0.42215052,\n",
              "       -0.43428742, -0.40051412, -0.43204734, -0.42214186, -0.41441162,\n",
              "       -0.44014117, -0.41863367, -0.42400248, -0.46204861, -0.41994282,\n",
              "       -0.46257141, -0.4306771 , -0.41893099, -0.41442569, -0.43394856,\n",
              "       -0.45239289, -0.44505587, -0.4454853 , -0.43176109, -0.43834305,\n",
              "       -0.43768515, -0.46089198, -0.43346255, -0.43472688, -0.40803247,\n",
              "       -0.48401619, -0.43626908, -0.44852726, -0.45295722, -0.45390825,\n",
              "       -0.44652183, -0.43525648, -0.43529601, -0.44587588, -0.43398976,\n",
              "       -0.42286988, -0.43448217, -0.40085025, -0.4278813 , -0.43009415,\n",
              "       -0.46734126, -0.46952941, -0.43894532, -0.43898436, -0.47036957,\n",
              "       -0.46851805, -0.4230692 , -0.4541787 , -0.44398059, -0.45351248,\n",
              "       -0.46120589, -0.47373066, -0.43267747, -0.41912247, -0.43141011,\n",
              "       -0.43109146, -0.45427545, -0.45199619, -0.43416843, -0.43706907,\n",
              "       -0.43110688, -0.43475282, -0.44864456, -0.40849148, -0.44552513,\n",
              "       -0.44265867, -0.44725814, -0.45504129, -0.46813892, -0.43386132,\n",
              "       -0.45222212, -0.44683108, -0.43796999, -0.4488646 , -0.41560335,\n",
              "       -0.41386048, -0.42121049, -0.45701801, -0.45061302, -0.42635632,\n",
              "       -0.44052636, -0.44125674, -0.46068449, -0.42535765, -0.42632995,\n",
              "       -0.42402826, -0.41310992, -0.41451645, -0.43362279, -0.430258  ,\n",
              "       -0.45979577, -0.43143281, -0.43147288, -0.4249915 , -0.46744878,\n",
              "       -0.44571778, -0.41903534, -0.45311724, -0.45491811, -0.43966187,\n",
              "       -0.43370791, -0.46206604, -0.44545119, -0.45413385, -0.42836962,\n",
              "       -0.44137464, -0.4333945 , -0.45964199, -0.42853448, -0.4758265 ,\n",
              "       -0.44705682, -0.4243739 , -0.43827862, -0.47767444, -0.43745582,\n",
              "       -0.44431309, -0.43135847, -0.43289026, -0.45640878, -0.44834021,\n",
              "       -0.45567599, -0.47801398, -0.43734051, -0.43612751, -0.45145425,\n",
              "       -0.4302275 , -0.40330972, -0.40598358, -0.44564341, -0.44725114,\n",
              "       -0.42728118, -0.4227369 , -0.44211387, -0.43845477, -0.46776778,\n",
              "       -0.4248833 , -0.43404493, -0.43679884, -0.43754023, -0.42752861,\n",
              "       -0.40351063, -0.44172907, -0.45810177, -0.46935247, -0.44063233,\n",
              "       -0.43807794, -0.44918177, -0.42841856, -0.42841856, -0.46382332,\n",
              "       -0.41214562, -0.45653057, -0.43819723, -0.43149075, -0.43348612,\n",
              "       -0.46296744, -0.43682657, -0.40714029, -0.43409432, -0.45298103,\n",
              "       -0.40839374, -0.43359073, -0.43034581, -0.41962842, -0.47135371,\n",
              "       -0.44616199, -0.43445778, -0.42140502, -0.43055896, -0.4778034 ,\n",
              "       -0.42834879, -0.44178665, -0.43440252, -0.42115292, -0.40662522,\n",
              "       -0.41929494, -0.41386102, -0.42594068, -0.4177359 , -0.44448972,\n",
              "       -0.43573286, -0.42942344, -0.43018844, -0.42421664, -0.41905011,\n",
              "       -0.44899064, -0.42853331, -0.42757241, -0.43764817, -0.4333755 ,\n",
              "       -0.43327145, -0.43340537, -0.45892381, -0.43608902, -0.43674507,\n",
              "       -0.43835046, -0.43840273, -0.44020444, -0.44985509, -0.40072429,\n",
              "       -0.43876732, -0.43958911, -0.42979348, -0.45210939, -0.43581016,\n",
              "       -0.41862386, -0.43921207, -0.40274603, -0.44010786, -0.41367173,\n",
              "       -0.45377306, -0.43070877, -0.42223223, -0.44543617, -0.42678272,\n",
              "       -0.41190878, -0.41238498, -0.4244124 , -0.42590821, -0.41666658,\n",
              "       -0.46697188, -0.43441036, -0.48065851, -0.41547844, -0.41547844,\n",
              "       -0.45465228, -0.42920228, -0.43962184, -0.42176784, -0.41608413,\n",
              "       -0.44823865, -0.41797779, -0.41831653, -0.436215  , -0.43231087,\n",
              "       -0.44412648, -0.42865592, -0.44329543, -0.45051595, -0.42162706,\n",
              "       -0.46729545, -0.40284345, -0.44454074, -0.458687  , -0.44404423,\n",
              "       -0.39354428, -0.45995639, -0.40812204, -0.43213266, -0.43407483,\n",
              "       -0.41455232, -0.45886368, -0.43559449, -0.45219266, -0.40129199,\n",
              "       -0.43175667, -0.46280153, -0.44236321, -0.42721193, -0.46193091,\n",
              "       -0.41350563, -0.40410038, -0.43253609, -0.40362929, -0.4465833 ,\n",
              "       -0.40993821, -0.44472074, -0.4253456 , -0.42365658, -0.46700636,\n",
              "       -0.44468034, -0.44451899, -0.46602717, -0.42741523, -0.44503887,\n",
              "       -0.43027152, -0.41957719, -0.41688468, -0.41557335, -0.43198448,\n",
              "       -0.44371717, -0.43286143, -0.43063217, -0.42116635, -0.41970915,\n",
              "       -0.44900585, -0.46786148, -0.42299038, -0.41529881, -0.43469226])"
            ]
          },
          "metadata": {},
          "execution_count": 53
        }
      ]
    },
    {
      "cell_type": "code",
      "source": [
        "df['anomaly_score'] = anomaly_scores\n"
      ],
      "metadata": {
        "id": "8J9E1PT08Pob"
      },
      "execution_count": 54,
      "outputs": []
    },
    {
      "cell_type": "code",
      "source": [
        "df"
      ],
      "metadata": {
        "colab": {
          "base_uri": "https://localhost:8080/",
          "height": 832
        },
        "id": "jd6ebJgS52Gb",
        "outputId": "d9a0f3b2-df86-43c0-9463-34492fb5828e"
      },
      "execution_count": 55,
      "outputs": [
        {
          "output_type": "execute_result",
          "data": {
            "text/plain": [
              "     Unnamed: 0                                         text_clean  \\\n",
              "0             0                                           forecast   \n",
              "1             1  traveling business meeting take fun trip espec...   \n",
              "2             2                             test successful way go   \n",
              "3             3  randycan send schedule salary level everyone t...   \n",
              "4             4        greghow either next tuesday thursdayphillip   \n",
              "..          ...                                                ...   \n",
              "485         485  pattithis sound like opportunity land couple a...   \n",
              "486         486  would support matt lenharts promotion next lev...   \n",
              "487         487  nickthere specific program using recruit train...   \n",
              "488         488  forwarded phillip k allenhouect 01252001enron ...   \n",
              "489         489  lucy32 29 fine28 paid weekly 15 switched biwee...   \n",
              "\n",
              "                                             embedding  anomaly_score  \\\n",
              "0    [-0.002978444332256913, -0.029137851670384407,...      -0.468139   \n",
              "1    [-0.016611222177743912, -0.023307325318455696,...      -0.446831   \n",
              "2    [-0.011441954411566257, 0.013317566365003586, ...      -0.447313   \n",
              "3    [-0.02002922259271145, -0.01722276769578457, 0...      -0.437837   \n",
              "4    [-0.026682931929826736, -0.0004355040728114545...      -0.432590   \n",
              "..                                                 ...            ...   \n",
              "485  [-0.033775750547647476, -0.032047294080257416,...      -0.449006   \n",
              "486  [-0.018882956355810165, 0.008640885353088379, ...      -0.467861   \n",
              "487  [-0.032885294407606125, -0.03331460803747177, ...      -0.422990   \n",
              "488  [-0.014968602918088436, -0.021389560773968697,...      -0.415299   \n",
              "489  [-0.01936548762023449, 0.00932900421321392, 0....      -0.434692   \n",
              "\n",
              "     is_anomaly  \n",
              "0          True  \n",
              "1          True  \n",
              "2          True  \n",
              "3          True  \n",
              "4          True  \n",
              "..          ...  \n",
              "485       False  \n",
              "486        True  \n",
              "487        True  \n",
              "488       False  \n",
              "489       False  \n",
              "\n",
              "[490 rows x 5 columns]"
            ],
            "text/html": [
              "\n",
              "\n",
              "  <div id=\"df-6dc491ed-4e31-4272-b4b2-a37b1ed937a4\">\n",
              "    <div class=\"colab-df-container\">\n",
              "      <div>\n",
              "<style scoped>\n",
              "    .dataframe tbody tr th:only-of-type {\n",
              "        vertical-align: middle;\n",
              "    }\n",
              "\n",
              "    .dataframe tbody tr th {\n",
              "        vertical-align: top;\n",
              "    }\n",
              "\n",
              "    .dataframe thead th {\n",
              "        text-align: right;\n",
              "    }\n",
              "</style>\n",
              "<table border=\"1\" class=\"dataframe\">\n",
              "  <thead>\n",
              "    <tr style=\"text-align: right;\">\n",
              "      <th></th>\n",
              "      <th>Unnamed: 0</th>\n",
              "      <th>text_clean</th>\n",
              "      <th>embedding</th>\n",
              "      <th>anomaly_score</th>\n",
              "      <th>is_anomaly</th>\n",
              "    </tr>\n",
              "  </thead>\n",
              "  <tbody>\n",
              "    <tr>\n",
              "      <th>0</th>\n",
              "      <td>0</td>\n",
              "      <td>forecast</td>\n",
              "      <td>[-0.002978444332256913, -0.029137851670384407,...</td>\n",
              "      <td>-0.468139</td>\n",
              "      <td>True</td>\n",
              "    </tr>\n",
              "    <tr>\n",
              "      <th>1</th>\n",
              "      <td>1</td>\n",
              "      <td>traveling business meeting take fun trip espec...</td>\n",
              "      <td>[-0.016611222177743912, -0.023307325318455696,...</td>\n",
              "      <td>-0.446831</td>\n",
              "      <td>True</td>\n",
              "    </tr>\n",
              "    <tr>\n",
              "      <th>2</th>\n",
              "      <td>2</td>\n",
              "      <td>test successful way go</td>\n",
              "      <td>[-0.011441954411566257, 0.013317566365003586, ...</td>\n",
              "      <td>-0.447313</td>\n",
              "      <td>True</td>\n",
              "    </tr>\n",
              "    <tr>\n",
              "      <th>3</th>\n",
              "      <td>3</td>\n",
              "      <td>randycan send schedule salary level everyone t...</td>\n",
              "      <td>[-0.02002922259271145, -0.01722276769578457, 0...</td>\n",
              "      <td>-0.437837</td>\n",
              "      <td>True</td>\n",
              "    </tr>\n",
              "    <tr>\n",
              "      <th>4</th>\n",
              "      <td>4</td>\n",
              "      <td>greghow either next tuesday thursdayphillip</td>\n",
              "      <td>[-0.026682931929826736, -0.0004355040728114545...</td>\n",
              "      <td>-0.432590</td>\n",
              "      <td>True</td>\n",
              "    </tr>\n",
              "    <tr>\n",
              "      <th>...</th>\n",
              "      <td>...</td>\n",
              "      <td>...</td>\n",
              "      <td>...</td>\n",
              "      <td>...</td>\n",
              "      <td>...</td>\n",
              "    </tr>\n",
              "    <tr>\n",
              "      <th>485</th>\n",
              "      <td>485</td>\n",
              "      <td>pattithis sound like opportunity land couple a...</td>\n",
              "      <td>[-0.033775750547647476, -0.032047294080257416,...</td>\n",
              "      <td>-0.449006</td>\n",
              "      <td>False</td>\n",
              "    </tr>\n",
              "    <tr>\n",
              "      <th>486</th>\n",
              "      <td>486</td>\n",
              "      <td>would support matt lenharts promotion next lev...</td>\n",
              "      <td>[-0.018882956355810165, 0.008640885353088379, ...</td>\n",
              "      <td>-0.467861</td>\n",
              "      <td>True</td>\n",
              "    </tr>\n",
              "    <tr>\n",
              "      <th>487</th>\n",
              "      <td>487</td>\n",
              "      <td>nickthere specific program using recruit train...</td>\n",
              "      <td>[-0.032885294407606125, -0.03331460803747177, ...</td>\n",
              "      <td>-0.422990</td>\n",
              "      <td>True</td>\n",
              "    </tr>\n",
              "    <tr>\n",
              "      <th>488</th>\n",
              "      <td>488</td>\n",
              "      <td>forwarded phillip k allenhouect 01252001enron ...</td>\n",
              "      <td>[-0.014968602918088436, -0.021389560773968697,...</td>\n",
              "      <td>-0.415299</td>\n",
              "      <td>False</td>\n",
              "    </tr>\n",
              "    <tr>\n",
              "      <th>489</th>\n",
              "      <td>489</td>\n",
              "      <td>lucy32 29 fine28 paid weekly 15 switched biwee...</td>\n",
              "      <td>[-0.01936548762023449, 0.00932900421321392, 0....</td>\n",
              "      <td>-0.434692</td>\n",
              "      <td>False</td>\n",
              "    </tr>\n",
              "  </tbody>\n",
              "</table>\n",
              "<p>490 rows × 5 columns</p>\n",
              "</div>\n",
              "      <button class=\"colab-df-convert\" onclick=\"convertToInteractive('df-6dc491ed-4e31-4272-b4b2-a37b1ed937a4')\"\n",
              "              title=\"Convert this dataframe to an interactive table.\"\n",
              "              style=\"display:none;\">\n",
              "\n",
              "  <svg xmlns=\"http://www.w3.org/2000/svg\" height=\"24px\"viewBox=\"0 0 24 24\"\n",
              "       width=\"24px\">\n",
              "    <path d=\"M0 0h24v24H0V0z\" fill=\"none\"/>\n",
              "    <path d=\"M18.56 5.44l.94 2.06.94-2.06 2.06-.94-2.06-.94-.94-2.06-.94 2.06-2.06.94zm-11 1L8.5 8.5l.94-2.06 2.06-.94-2.06-.94L8.5 2.5l-.94 2.06-2.06.94zm10 10l.94 2.06.94-2.06 2.06-.94-2.06-.94-.94-2.06-.94 2.06-2.06.94z\"/><path d=\"M17.41 7.96l-1.37-1.37c-.4-.4-.92-.59-1.43-.59-.52 0-1.04.2-1.43.59L10.3 9.45l-7.72 7.72c-.78.78-.78 2.05 0 2.83L4 21.41c.39.39.9.59 1.41.59.51 0 1.02-.2 1.41-.59l7.78-7.78 2.81-2.81c.8-.78.8-2.07 0-2.86zM5.41 20L4 18.59l7.72-7.72 1.47 1.35L5.41 20z\"/>\n",
              "  </svg>\n",
              "      </button>\n",
              "\n",
              "\n",
              "\n",
              "    <div id=\"df-977163d5-03a3-4448-959a-0c86f773f398\">\n",
              "      <button class=\"colab-df-quickchart\" onclick=\"quickchart('df-977163d5-03a3-4448-959a-0c86f773f398')\"\n",
              "              title=\"Suggest charts.\"\n",
              "              style=\"display:none;\">\n",
              "\n",
              "<svg xmlns=\"http://www.w3.org/2000/svg\" height=\"24px\"viewBox=\"0 0 24 24\"\n",
              "     width=\"24px\">\n",
              "    <g>\n",
              "        <path d=\"M19 3H5c-1.1 0-2 .9-2 2v14c0 1.1.9 2 2 2h14c1.1 0 2-.9 2-2V5c0-1.1-.9-2-2-2zM9 17H7v-7h2v7zm4 0h-2V7h2v10zm4 0h-2v-4h2v4z\"/>\n",
              "    </g>\n",
              "</svg>\n",
              "      </button>\n",
              "    </div>\n",
              "\n",
              "<style>\n",
              "  .colab-df-quickchart {\n",
              "    background-color: #E8F0FE;\n",
              "    border: none;\n",
              "    border-radius: 50%;\n",
              "    cursor: pointer;\n",
              "    display: none;\n",
              "    fill: #1967D2;\n",
              "    height: 32px;\n",
              "    padding: 0 0 0 0;\n",
              "    width: 32px;\n",
              "  }\n",
              "\n",
              "  .colab-df-quickchart:hover {\n",
              "    background-color: #E2EBFA;\n",
              "    box-shadow: 0px 1px 2px rgba(60, 64, 67, 0.3), 0px 1px 3px 1px rgba(60, 64, 67, 0.15);\n",
              "    fill: #174EA6;\n",
              "  }\n",
              "\n",
              "  [theme=dark] .colab-df-quickchart {\n",
              "    background-color: #3B4455;\n",
              "    fill: #D2E3FC;\n",
              "  }\n",
              "\n",
              "  [theme=dark] .colab-df-quickchart:hover {\n",
              "    background-color: #434B5C;\n",
              "    box-shadow: 0px 1px 3px 1px rgba(0, 0, 0, 0.15);\n",
              "    filter: drop-shadow(0px 1px 2px rgba(0, 0, 0, 0.3));\n",
              "    fill: #FFFFFF;\n",
              "  }\n",
              "</style>\n",
              "\n",
              "    <script>\n",
              "      async function quickchart(key) {\n",
              "        const containerElement = document.querySelector('#' + key);\n",
              "        const charts = await google.colab.kernel.invokeFunction(\n",
              "            'suggestCharts', [key], {});\n",
              "      }\n",
              "    </script>\n",
              "\n",
              "      <script>\n",
              "\n",
              "function displayQuickchartButton(domScope) {\n",
              "  let quickchartButtonEl =\n",
              "    domScope.querySelector('#df-977163d5-03a3-4448-959a-0c86f773f398 button.colab-df-quickchart');\n",
              "  quickchartButtonEl.style.display =\n",
              "    google.colab.kernel.accessAllowed ? 'block' : 'none';\n",
              "}\n",
              "\n",
              "        displayQuickchartButton(document);\n",
              "      </script>\n",
              "      <style>\n",
              "    .colab-df-container {\n",
              "      display:flex;\n",
              "      flex-wrap:wrap;\n",
              "      gap: 12px;\n",
              "    }\n",
              "\n",
              "    .colab-df-convert {\n",
              "      background-color: #E8F0FE;\n",
              "      border: none;\n",
              "      border-radius: 50%;\n",
              "      cursor: pointer;\n",
              "      display: none;\n",
              "      fill: #1967D2;\n",
              "      height: 32px;\n",
              "      padding: 0 0 0 0;\n",
              "      width: 32px;\n",
              "    }\n",
              "\n",
              "    .colab-df-convert:hover {\n",
              "      background-color: #E2EBFA;\n",
              "      box-shadow: 0px 1px 2px rgba(60, 64, 67, 0.3), 0px 1px 3px 1px rgba(60, 64, 67, 0.15);\n",
              "      fill: #174EA6;\n",
              "    }\n",
              "\n",
              "    [theme=dark] .colab-df-convert {\n",
              "      background-color: #3B4455;\n",
              "      fill: #D2E3FC;\n",
              "    }\n",
              "\n",
              "    [theme=dark] .colab-df-convert:hover {\n",
              "      background-color: #434B5C;\n",
              "      box-shadow: 0px 1px 3px 1px rgba(0, 0, 0, 0.15);\n",
              "      filter: drop-shadow(0px 1px 2px rgba(0, 0, 0, 0.3));\n",
              "      fill: #FFFFFF;\n",
              "    }\n",
              "  </style>\n",
              "\n",
              "      <script>\n",
              "        const buttonEl =\n",
              "          document.querySelector('#df-6dc491ed-4e31-4272-b4b2-a37b1ed937a4 button.colab-df-convert');\n",
              "        buttonEl.style.display =\n",
              "          google.colab.kernel.accessAllowed ? 'block' : 'none';\n",
              "\n",
              "        async function convertToInteractive(key) {\n",
              "          const element = document.querySelector('#df-6dc491ed-4e31-4272-b4b2-a37b1ed937a4');\n",
              "          const dataTable =\n",
              "            await google.colab.kernel.invokeFunction('convertToInteractive',\n",
              "                                                     [key], {});\n",
              "          if (!dataTable) return;\n",
              "\n",
              "          const docLinkHtml = 'Like what you see? Visit the ' +\n",
              "            '<a target=\"_blank\" href=https://colab.research.google.com/notebooks/data_table.ipynb>data table notebook</a>'\n",
              "            + ' to learn more about interactive tables.';\n",
              "          element.innerHTML = '';\n",
              "          dataTable['output_type'] = 'display_data';\n",
              "          await google.colab.output.renderOutput(dataTable, element);\n",
              "          const docLink = document.createElement('div');\n",
              "          docLink.innerHTML = docLinkHtml;\n",
              "          element.appendChild(docLink);\n",
              "        }\n",
              "      </script>\n",
              "    </div>\n",
              "  </div>\n"
            ]
          },
          "metadata": {},
          "execution_count": 55
        }
      ]
    },
    {
      "cell_type": "code",
      "source": [
        "threshold = -0.45  # Adjust the threshold as needed\n"
      ],
      "metadata": {
        "id": "tBRfg2hJ52L9"
      },
      "execution_count": 76,
      "outputs": []
    },
    {
      "cell_type": "code",
      "source": [
        "df['is_anomaly'] = df['anomaly_score'] < threshold\n"
      ],
      "metadata": {
        "id": "CrU0heCE_2ot"
      },
      "execution_count": 77,
      "outputs": []
    },
    {
      "cell_type": "code",
      "source": [
        "anomalies = df[df['is_anomaly']]\n"
      ],
      "metadata": {
        "id": "6AIiBa60_38V"
      },
      "execution_count": 78,
      "outputs": []
    },
    {
      "cell_type": "code",
      "source": [
        "anomalies"
      ],
      "metadata": {
        "colab": {
          "base_uri": "https://localhost:8080/",
          "height": 901
        },
        "id": "JBcmllio_5Uw",
        "outputId": "33f6e84f-d118-48f6-94f8-6b214cfbfbdd"
      },
      "execution_count": 79,
      "outputs": [
        {
          "output_type": "execute_result",
          "data": {
            "text/plain": [
              "     Unnamed: 0                                         text_clean  \\\n",
              "0             0                                           forecast   \n",
              "6             6         dont think required isp2 static ip address   \n",
              "12           12  davehere name west desk member category origin...   \n",
              "19           19                        think fletch good cpa still   \n",
              "27           27      nymex expiration time frame please reschedule   \n",
              "..          ...                                                ...   \n",
              "456         456  send ina rangel forward appropriate trader are...   \n",
              "459         459  susanraised issue sally beck larry going spend...   \n",
              "469         469  8500 thats twice valuable car cant get used on...   \n",
              "472         472  jeffbefore write stage thing think about1 oper...   \n",
              "486         486  would support matt lenharts promotion next lev...   \n",
              "\n",
              "                                             embedding  anomaly_score  \\\n",
              "0    [-0.002978444332256913, -0.029137851670384407,...      -0.468139   \n",
              "6    [-0.014152380637824535, 0.020037245005369186, ...      -0.480255   \n",
              "12   [-0.002665597712621093, -0.0013185596326366067...      -0.475867   \n",
              "19   [-0.012344620190560818, 0.0035061421804130077,...      -0.465051   \n",
              "27   [-0.011050663888454437, -0.02314694970846176, ...      -0.469550   \n",
              "..                                                 ...            ...   \n",
              "456  [-0.02564612776041031, -0.011885322630405426, ...      -0.462802   \n",
              "459  [-0.014596407301723957, -0.017808910459280014,...      -0.461931   \n",
              "469  [-0.00241537275724113, 0.00860824715346098, 0....      -0.467006   \n",
              "472  [0.006602688692510128, 0.003724329173564911, 0...      -0.466027   \n",
              "486  [-0.018882956355810165, 0.008640885353088379, ...      -0.467861   \n",
              "\n",
              "     is_anomaly  \n",
              "0          True  \n",
              "6          True  \n",
              "12         True  \n",
              "19         True  \n",
              "27         True  \n",
              "..          ...  \n",
              "456        True  \n",
              "459        True  \n",
              "469        True  \n",
              "472        True  \n",
              "486        True  \n",
              "\n",
              "[113 rows x 5 columns]"
            ],
            "text/html": [
              "\n",
              "\n",
              "  <div id=\"df-a43fb963-afd4-46b7-a9d0-07f3613b2344\">\n",
              "    <div class=\"colab-df-container\">\n",
              "      <div>\n",
              "<style scoped>\n",
              "    .dataframe tbody tr th:only-of-type {\n",
              "        vertical-align: middle;\n",
              "    }\n",
              "\n",
              "    .dataframe tbody tr th {\n",
              "        vertical-align: top;\n",
              "    }\n",
              "\n",
              "    .dataframe thead th {\n",
              "        text-align: right;\n",
              "    }\n",
              "</style>\n",
              "<table border=\"1\" class=\"dataframe\">\n",
              "  <thead>\n",
              "    <tr style=\"text-align: right;\">\n",
              "      <th></th>\n",
              "      <th>Unnamed: 0</th>\n",
              "      <th>text_clean</th>\n",
              "      <th>embedding</th>\n",
              "      <th>anomaly_score</th>\n",
              "      <th>is_anomaly</th>\n",
              "    </tr>\n",
              "  </thead>\n",
              "  <tbody>\n",
              "    <tr>\n",
              "      <th>0</th>\n",
              "      <td>0</td>\n",
              "      <td>forecast</td>\n",
              "      <td>[-0.002978444332256913, -0.029137851670384407,...</td>\n",
              "      <td>-0.468139</td>\n",
              "      <td>True</td>\n",
              "    </tr>\n",
              "    <tr>\n",
              "      <th>6</th>\n",
              "      <td>6</td>\n",
              "      <td>dont think required isp2 static ip address</td>\n",
              "      <td>[-0.014152380637824535, 0.020037245005369186, ...</td>\n",
              "      <td>-0.480255</td>\n",
              "      <td>True</td>\n",
              "    </tr>\n",
              "    <tr>\n",
              "      <th>12</th>\n",
              "      <td>12</td>\n",
              "      <td>davehere name west desk member category origin...</td>\n",
              "      <td>[-0.002665597712621093, -0.0013185596326366067...</td>\n",
              "      <td>-0.475867</td>\n",
              "      <td>True</td>\n",
              "    </tr>\n",
              "    <tr>\n",
              "      <th>19</th>\n",
              "      <td>19</td>\n",
              "      <td>think fletch good cpa still</td>\n",
              "      <td>[-0.012344620190560818, 0.0035061421804130077,...</td>\n",
              "      <td>-0.465051</td>\n",
              "      <td>True</td>\n",
              "    </tr>\n",
              "    <tr>\n",
              "      <th>27</th>\n",
              "      <td>27</td>\n",
              "      <td>nymex expiration time frame please reschedule</td>\n",
              "      <td>[-0.011050663888454437, -0.02314694970846176, ...</td>\n",
              "      <td>-0.469550</td>\n",
              "      <td>True</td>\n",
              "    </tr>\n",
              "    <tr>\n",
              "      <th>...</th>\n",
              "      <td>...</td>\n",
              "      <td>...</td>\n",
              "      <td>...</td>\n",
              "      <td>...</td>\n",
              "      <td>...</td>\n",
              "    </tr>\n",
              "    <tr>\n",
              "      <th>456</th>\n",
              "      <td>456</td>\n",
              "      <td>send ina rangel forward appropriate trader are...</td>\n",
              "      <td>[-0.02564612776041031, -0.011885322630405426, ...</td>\n",
              "      <td>-0.462802</td>\n",
              "      <td>True</td>\n",
              "    </tr>\n",
              "    <tr>\n",
              "      <th>459</th>\n",
              "      <td>459</td>\n",
              "      <td>susanraised issue sally beck larry going spend...</td>\n",
              "      <td>[-0.014596407301723957, -0.017808910459280014,...</td>\n",
              "      <td>-0.461931</td>\n",
              "      <td>True</td>\n",
              "    </tr>\n",
              "    <tr>\n",
              "      <th>469</th>\n",
              "      <td>469</td>\n",
              "      <td>8500 thats twice valuable car cant get used on...</td>\n",
              "      <td>[-0.00241537275724113, 0.00860824715346098, 0....</td>\n",
              "      <td>-0.467006</td>\n",
              "      <td>True</td>\n",
              "    </tr>\n",
              "    <tr>\n",
              "      <th>472</th>\n",
              "      <td>472</td>\n",
              "      <td>jeffbefore write stage thing think about1 oper...</td>\n",
              "      <td>[0.006602688692510128, 0.003724329173564911, 0...</td>\n",
              "      <td>-0.466027</td>\n",
              "      <td>True</td>\n",
              "    </tr>\n",
              "    <tr>\n",
              "      <th>486</th>\n",
              "      <td>486</td>\n",
              "      <td>would support matt lenharts promotion next lev...</td>\n",
              "      <td>[-0.018882956355810165, 0.008640885353088379, ...</td>\n",
              "      <td>-0.467861</td>\n",
              "      <td>True</td>\n",
              "    </tr>\n",
              "  </tbody>\n",
              "</table>\n",
              "<p>113 rows × 5 columns</p>\n",
              "</div>\n",
              "      <button class=\"colab-df-convert\" onclick=\"convertToInteractive('df-a43fb963-afd4-46b7-a9d0-07f3613b2344')\"\n",
              "              title=\"Convert this dataframe to an interactive table.\"\n",
              "              style=\"display:none;\">\n",
              "\n",
              "  <svg xmlns=\"http://www.w3.org/2000/svg\" height=\"24px\"viewBox=\"0 0 24 24\"\n",
              "       width=\"24px\">\n",
              "    <path d=\"M0 0h24v24H0V0z\" fill=\"none\"/>\n",
              "    <path d=\"M18.56 5.44l.94 2.06.94-2.06 2.06-.94-2.06-.94-.94-2.06-.94 2.06-2.06.94zm-11 1L8.5 8.5l.94-2.06 2.06-.94-2.06-.94L8.5 2.5l-.94 2.06-2.06.94zm10 10l.94 2.06.94-2.06 2.06-.94-2.06-.94-.94-2.06-.94 2.06-2.06.94z\"/><path d=\"M17.41 7.96l-1.37-1.37c-.4-.4-.92-.59-1.43-.59-.52 0-1.04.2-1.43.59L10.3 9.45l-7.72 7.72c-.78.78-.78 2.05 0 2.83L4 21.41c.39.39.9.59 1.41.59.51 0 1.02-.2 1.41-.59l7.78-7.78 2.81-2.81c.8-.78.8-2.07 0-2.86zM5.41 20L4 18.59l7.72-7.72 1.47 1.35L5.41 20z\"/>\n",
              "  </svg>\n",
              "      </button>\n",
              "\n",
              "\n",
              "\n",
              "    <div id=\"df-3933124a-0e00-4463-9144-ae1f1ce60dd0\">\n",
              "      <button class=\"colab-df-quickchart\" onclick=\"quickchart('df-3933124a-0e00-4463-9144-ae1f1ce60dd0')\"\n",
              "              title=\"Suggest charts.\"\n",
              "              style=\"display:none;\">\n",
              "\n",
              "<svg xmlns=\"http://www.w3.org/2000/svg\" height=\"24px\"viewBox=\"0 0 24 24\"\n",
              "     width=\"24px\">\n",
              "    <g>\n",
              "        <path d=\"M19 3H5c-1.1 0-2 .9-2 2v14c0 1.1.9 2 2 2h14c1.1 0 2-.9 2-2V5c0-1.1-.9-2-2-2zM9 17H7v-7h2v7zm4 0h-2V7h2v10zm4 0h-2v-4h2v4z\"/>\n",
              "    </g>\n",
              "</svg>\n",
              "      </button>\n",
              "    </div>\n",
              "\n",
              "<style>\n",
              "  .colab-df-quickchart {\n",
              "    background-color: #E8F0FE;\n",
              "    border: none;\n",
              "    border-radius: 50%;\n",
              "    cursor: pointer;\n",
              "    display: none;\n",
              "    fill: #1967D2;\n",
              "    height: 32px;\n",
              "    padding: 0 0 0 0;\n",
              "    width: 32px;\n",
              "  }\n",
              "\n",
              "  .colab-df-quickchart:hover {\n",
              "    background-color: #E2EBFA;\n",
              "    box-shadow: 0px 1px 2px rgba(60, 64, 67, 0.3), 0px 1px 3px 1px rgba(60, 64, 67, 0.15);\n",
              "    fill: #174EA6;\n",
              "  }\n",
              "\n",
              "  [theme=dark] .colab-df-quickchart {\n",
              "    background-color: #3B4455;\n",
              "    fill: #D2E3FC;\n",
              "  }\n",
              "\n",
              "  [theme=dark] .colab-df-quickchart:hover {\n",
              "    background-color: #434B5C;\n",
              "    box-shadow: 0px 1px 3px 1px rgba(0, 0, 0, 0.15);\n",
              "    filter: drop-shadow(0px 1px 2px rgba(0, 0, 0, 0.3));\n",
              "    fill: #FFFFFF;\n",
              "  }\n",
              "</style>\n",
              "\n",
              "    <script>\n",
              "      async function quickchart(key) {\n",
              "        const containerElement = document.querySelector('#' + key);\n",
              "        const charts = await google.colab.kernel.invokeFunction(\n",
              "            'suggestCharts', [key], {});\n",
              "      }\n",
              "    </script>\n",
              "\n",
              "      <script>\n",
              "\n",
              "function displayQuickchartButton(domScope) {\n",
              "  let quickchartButtonEl =\n",
              "    domScope.querySelector('#df-3933124a-0e00-4463-9144-ae1f1ce60dd0 button.colab-df-quickchart');\n",
              "  quickchartButtonEl.style.display =\n",
              "    google.colab.kernel.accessAllowed ? 'block' : 'none';\n",
              "}\n",
              "\n",
              "        displayQuickchartButton(document);\n",
              "      </script>\n",
              "      <style>\n",
              "    .colab-df-container {\n",
              "      display:flex;\n",
              "      flex-wrap:wrap;\n",
              "      gap: 12px;\n",
              "    }\n",
              "\n",
              "    .colab-df-convert {\n",
              "      background-color: #E8F0FE;\n",
              "      border: none;\n",
              "      border-radius: 50%;\n",
              "      cursor: pointer;\n",
              "      display: none;\n",
              "      fill: #1967D2;\n",
              "      height: 32px;\n",
              "      padding: 0 0 0 0;\n",
              "      width: 32px;\n",
              "    }\n",
              "\n",
              "    .colab-df-convert:hover {\n",
              "      background-color: #E2EBFA;\n",
              "      box-shadow: 0px 1px 2px rgba(60, 64, 67, 0.3), 0px 1px 3px 1px rgba(60, 64, 67, 0.15);\n",
              "      fill: #174EA6;\n",
              "    }\n",
              "\n",
              "    [theme=dark] .colab-df-convert {\n",
              "      background-color: #3B4455;\n",
              "      fill: #D2E3FC;\n",
              "    }\n",
              "\n",
              "    [theme=dark] .colab-df-convert:hover {\n",
              "      background-color: #434B5C;\n",
              "      box-shadow: 0px 1px 3px 1px rgba(0, 0, 0, 0.15);\n",
              "      filter: drop-shadow(0px 1px 2px rgba(0, 0, 0, 0.3));\n",
              "      fill: #FFFFFF;\n",
              "    }\n",
              "  </style>\n",
              "\n",
              "      <script>\n",
              "        const buttonEl =\n",
              "          document.querySelector('#df-a43fb963-afd4-46b7-a9d0-07f3613b2344 button.colab-df-convert');\n",
              "        buttonEl.style.display =\n",
              "          google.colab.kernel.accessAllowed ? 'block' : 'none';\n",
              "\n",
              "        async function convertToInteractive(key) {\n",
              "          const element = document.querySelector('#df-a43fb963-afd4-46b7-a9d0-07f3613b2344');\n",
              "          const dataTable =\n",
              "            await google.colab.kernel.invokeFunction('convertToInteractive',\n",
              "                                                     [key], {});\n",
              "          if (!dataTable) return;\n",
              "\n",
              "          const docLinkHtml = 'Like what you see? Visit the ' +\n",
              "            '<a target=\"_blank\" href=https://colab.research.google.com/notebooks/data_table.ipynb>data table notebook</a>'\n",
              "            + ' to learn more about interactive tables.';\n",
              "          element.innerHTML = '';\n",
              "          dataTable['output_type'] = 'display_data';\n",
              "          await google.colab.output.renderOutput(dataTable, element);\n",
              "          const docLink = document.createElement('div');\n",
              "          docLink.innerHTML = docLinkHtml;\n",
              "          element.appendChild(docLink);\n",
              "        }\n",
              "      </script>\n",
              "    </div>\n",
              "  </div>\n"
            ]
          },
          "metadata": {},
          "execution_count": 79
        }
      ]
    },
    {
      "cell_type": "markdown",
      "source": [
        "## Some of the anomaly emails over here"
      ],
      "metadata": {
        "id": "40bED0YF_ehW"
      }
    },
    {
      "cell_type": "code",
      "source": [
        "anomalies['text_clean'][0]"
      ],
      "metadata": {
        "colab": {
          "base_uri": "https://localhost:8080/",
          "height": 36
        },
        "id": "hXV_1NSU-6BP",
        "outputId": "3ecbd9d9-f6cc-4153-b8e9-2b9ac51e0a1c"
      },
      "execution_count": 80,
      "outputs": [
        {
          "output_type": "execute_result",
          "data": {
            "text/plain": [
              "'forecast'"
            ],
            "application/vnd.google.colaboratory.intrinsic+json": {
              "type": "string"
            }
          },
          "metadata": {},
          "execution_count": 80
        }
      ]
    },
    {
      "cell_type": "code",
      "source": [
        "anomalies['text_clean'][6]"
      ],
      "metadata": {
        "colab": {
          "base_uri": "https://localhost:8080/",
          "height": 36
        },
        "id": "lXSIs9kM_Fkm",
        "outputId": "7e076e97-5918-43ee-f348-cb1f1eb3fd4a"
      },
      "execution_count": 81,
      "outputs": [
        {
          "output_type": "execute_result",
          "data": {
            "text/plain": [
              "'dont think required isp2 static ip address'"
            ],
            "application/vnd.google.colaboratory.intrinsic+json": {
              "type": "string"
            }
          },
          "metadata": {},
          "execution_count": 81
        }
      ]
    },
    {
      "cell_type": "code",
      "source": [
        "anomalies['text_clean'][12]"
      ],
      "metadata": {
        "colab": {
          "base_uri": "https://localhost:8080/",
          "height": 36
        },
        "id": "EyuiE4yh_OrZ",
        "outputId": "25a71069-9e92-4fa0-c87b-55e2fd24f961"
      },
      "execution_count": 82,
      "outputs": [
        {
          "output_type": "execute_result",
          "data": {
            "text/plain": [
              "'davehere name west desk member category originationside sparsephillip'"
            ],
            "application/vnd.google.colaboratory.intrinsic+json": {
              "type": "string"
            }
          },
          "metadata": {},
          "execution_count": 82
        }
      ]
    },
    {
      "cell_type": "code",
      "source": [
        "anomalies['text_clean'][19]"
      ],
      "metadata": {
        "colab": {
          "base_uri": "https://localhost:8080/",
          "height": 36
        },
        "id": "VfYsjwU2_Uqz",
        "outputId": "c2e87f50-f0a5-4b59-949e-8d23e7a7d37b"
      },
      "execution_count": 83,
      "outputs": [
        {
          "output_type": "execute_result",
          "data": {
            "text/plain": [
              "'think fletch good cpa still'"
            ],
            "application/vnd.google.colaboratory.intrinsic+json": {
              "type": "string"
            }
          },
          "metadata": {},
          "execution_count": 83
        }
      ]
    },
    {
      "cell_type": "markdown",
      "source": [
        "## Some of the normal emails"
      ],
      "metadata": {
        "id": "1LObUZwv_lcd"
      }
    },
    {
      "cell_type": "code",
      "source": [
        "df['text_clean'][1]"
      ],
      "metadata": {
        "colab": {
          "base_uri": "https://localhost:8080/",
          "height": 140
        },
        "id": "09dI27jN_Yha",
        "outputId": "4dc4820c-8554-42bc-9b70-6f1901e38c79"
      },
      "execution_count": 70,
      "outputs": [
        {
          "output_type": "execute_result",
          "data": {
            "text/plain": [
              "'traveling business meeting take fun trip especially prepare presentation would suggest holding business plan meeting take trip without formal business meeting would even try get honest opinion whether trip even desired necessaryas far business meeting think would productive try stimulate discussion across different group working often presenter speaks others quiet waiting turn meeting might better held round table discussion formatmy suggestion go austin play golf rent ski boat jet ski flying somewhere take much time'"
            ],
            "application/vnd.google.colaboratory.intrinsic+json": {
              "type": "string"
            }
          },
          "metadata": {},
          "execution_count": 70
        }
      ]
    },
    {
      "cell_type": "code",
      "source": [
        "df['text_clean'][2]"
      ],
      "metadata": {
        "colab": {
          "base_uri": "https://localhost:8080/",
          "height": 36
        },
        "id": "A-5jlOPI_b31",
        "outputId": "de9d30d5-8a0d-47d4-9eb9-910059721b8b"
      },
      "execution_count": 71,
      "outputs": [
        {
          "output_type": "execute_result",
          "data": {
            "text/plain": [
              "'test successful way go'"
            ],
            "application/vnd.google.colaboratory.intrinsic+json": {
              "type": "string"
            }
          },
          "metadata": {},
          "execution_count": 71
        }
      ]
    },
    {
      "cell_type": "code",
      "source": [],
      "metadata": {
        "id": "LEaAs-_R_d1b"
      },
      "execution_count": null,
      "outputs": []
    }
  ]
}